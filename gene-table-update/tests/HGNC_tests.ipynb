{
 "cells": [
  {
   "cell_type": "markdown",
   "id": "265b924f",
   "metadata": {},
   "source": [
    "## Tests for New HGNC Gene Table Updates\n",
    "\n",
    "The following tests can be executed to compare the new version of the HGNC gene table with the previous versions for updates.\n",
    "\n",
    "#### Test 1: Records Count\n",
    "Ensure the count of `gene_info_records` is greater than or equal to the `hgnc_complete_set` records.\n",
    "\n",
    "#### Test 2: Deleted Rows Check\n",
    "Verify that the rows deleted in `gene_info.txt` are due to duplicates.\n",
    "\n",
    "#### Test 3: Duplicate Gene Symbols\n",
    "Identify any duplicate gene symbols present in the `gene_info` table.\n",
    "\n",
    "#### Test 4: Duplicate Entrez IDs\n",
    "Identify any duplicate `entrez_ids` present in the `gene_info` table.\n",
    "\n",
    "#### Test 5: Ambiguous Symbol Dropping\n",
    "Check if ambiguous symbols in the `gene_info` table are dropped according to the following order:\n",
    "- `main_symbol` > `previous_symbol` > `alias_symbol`\n",
    "\n",
    "#### Test 6: Comparison of Current and Old Versions\n",
    "Compare the current and old versions of `gene_info.txt` and list the symbols missing in the new file, alongside the entries in `gene_updates.md`.\n"
   ]
  },
  {
   "cell_type": "code",
   "execution_count": null,
   "id": "18e428dc",
   "metadata": {},
   "outputs": [],
   "source": [
    "import pandas as pd\n",
    "\n",
    "hgnc_complete_set_file_path = \"hgnc_complete_set_oct_16_2024.txt\"\n",
    "gene_info_file_path = \"gene_info-Oct-24-2024.txt\"\n",
    "gene_updates_list_path = \"gene_updates_list.txt\"\n",
    "prev_gene_info_path = \"prev_gene_info.txt\"\n",
    "\n",
    "complete_set = pd.read_csv(hgnc_complete_set_file_path, sep='\\t', dtype=str).fillna(\"\")\n",
    "gene_info = pd.read_csv(gene_info_file_path, sep='\\t', dtype=str).fillna(\"\")\n",
    "gene_updates_list = pd.read_csv(gene_updates_list_path, sep='\\t', dtype=str).fillna(\"\")\n",
    "prev_gene_info = pd.read_csv(prev_gene_info_path, sep='\\t', dtype=str).fillna(\"\")"
   ]
  },
  {
   "cell_type": "code",
   "execution_count": 27,
   "id": "6f765023",
   "metadata": {},
   "outputs": [
    {
     "name": "stdout",
     "output_type": "stream",
     "text": [
      "The counts are :\n",
      "\tgene_info : 42331\n",
      "\tcomplete_set : 41900\n"
     ]
    }
   ],
   "source": [
    "### Test1: Records count\n",
    "# count of gene_info_records >= hgnc_complete_set records \n",
    "\n",
    "# Prepare complete_set\n",
    "# Remove rows where\n",
    "# locus_type value is 'RNA, micro' -> miRNA rows\n",
    "# entrez_id is empty\n",
    "\n",
    "complete_set = complete_set[complete_set['locus_type'] != 'RNA, micro']\n",
    "complete_set = complete_set[complete_set['entrez_id'] != '']\n",
    "\n",
    "complete_set = complete_set[['hgnc_id', 'symbol', 'alias_symbol', 'prev_symbol', 'entrez_id']]\n",
    "gene_info = gene_info[['hgnc_id', 'symbol', 'synonyms', 'entrez_id']]\n",
    "\n",
    "# gene_info.txt has supp symbols (412 main supp + alias supp)\n",
    "# count (gene_info.txt) should be >= count(complete set) \n",
    "\n",
    "if gene_info.shape[0] >= complete_set.shape[0]:\n",
    "    print(f'The counts are :\\n\\tgene_info : {gene_info.shape[0]}\\n\\tcomplete_set : {complete_set.shape[0]}')\n"
   ]
  },
  {
   "cell_type": "code",
   "execution_count": 28,
   "id": "40978cc7",
   "metadata": {},
   "outputs": [
    {
     "name": "stdout",
     "output_type": "stream",
     "text": [
      "No unmatched symbols with a net frequency greater than 1.\n"
     ]
    }
   ],
   "source": [
    "### Test2: Make sure the rows that got deleted in gene_info.txt are because of duplicates. \n",
    "\n",
    "# Explode symbols by '|' and compare\n",
    "# create dfs with HGNC_id, entrez_id, symbol columns\n",
    "# add the split alias and previous symbols as new rows. Create a longitudinal table.\n",
    "cs_dfs = []\n",
    "for col in ['symbol', 'alias_symbol', 'prev_symbol']:\n",
    "    temp_df = complete_set[['hgnc_id', 'entrez_id', col]].copy()\n",
    "    temp_df[col] = temp_df[col].str.split('|')\n",
    "    exploded_df = temp_df.explode(col).rename(columns={col: 'symbol'}).reset_index(drop=True)\n",
    "    cs_dfs.append(exploded_df)\n",
    "cs_exploded = pd.concat(cs_dfs, ignore_index=True)\n",
    "cs_exploded = cs_exploded[cs_exploded['symbol'] != '']\n",
    "\n",
    "gi_dfs = []\n",
    "for col in ['symbol', 'synonyms']:\n",
    "    temp_df = gene_info[['hgnc_id', 'entrez_id', col]].copy()\n",
    "    temp_df[col] = temp_df[col].str.split('|')\n",
    "    exploded_df = temp_df.explode(col).rename(columns={col: 'symbol'}).reset_index(drop=True)\n",
    "    gi_dfs.append(exploded_df)\n",
    "gi_exploded = pd.concat(gi_dfs, ignore_index=True)\n",
    "gi_exploded = gi_exploded[gi_exploded['symbol'] != '']\n",
    "\n",
    "#1. Remove rows where HGNC_id = '' in both df's\n",
    "#2. Join two tables by HGNC_id, entrez_id, symbol\n",
    "#3. Drop rows that do not have a match in complete set (These rows come from supp files)\n",
    "#4. For the rows that do not have any matches in gene_info file, understand why? They should have been dropped due to ambiguity\n",
    "\n",
    "gi_exploded_renamed = gi_exploded.rename(columns={\n",
    "    'hgnc_id': 'hgnc_id_gi',\n",
    "    'entrez_id': 'entrez_id_gi',\n",
    "    'symbol': 'symbol_gi'\n",
    "})\n",
    "merged_result = pd.merge(cs_exploded, gi_exploded_renamed, left_on=['hgnc_id', 'entrez_id', 'symbol'], right_on=['hgnc_id_gi', 'entrez_id_gi', 'symbol_gi'], how='outer')\n",
    "merged_result = merged_result.fillna(\"\")\n",
    "\n",
    "merged_result = merged_result[merged_result['hgnc_id'] != \"\"]\n",
    "merged_result = merged_result[\n",
    "    ~((merged_result['hgnc_id_gi'] == \"\") & (merged_result['entrez_id_gi'] != \"\") & (merged_result['symbol_gi'] != \"\"))\n",
    "]\n",
    "\n",
    "# identify symbols in complete set that are not in gene info. \n",
    "# freq of those symbols in complete set - freq of these symbols in gene_info = 1 (always)\n",
    "unmatched_rows = merged_result[merged_result['hgnc_id_gi'] == \"\"]\n",
    "unmatched_symbols = unmatched_rows.groupby('symbol', as_index=False).size()\n",
    "unmatched_symbols.columns = ['symbol', 'gi_freq']\n",
    "\n",
    "# gene freq in complete set\n",
    "cs_gene_freq = cs_exploded.groupby('symbol', as_index=False).size()\n",
    "cs_gene_freq.columns = ['symbol', 'cs_freq']\n",
    "\n",
    "merged_freq = pd.merge(unmatched_symbols, cs_gene_freq, on='symbol', how='left')\n",
    "merged_freq['net_freq'] = merged_freq['cs_freq'] - merged_freq['gi_freq']\n",
    "net_freq_greater_than_1 = merged_freq[merged_freq['net_freq'] > 1]\n",
    "if not net_freq_greater_than_1.empty:\n",
    "    print(\"There are unmatched symbols with a net frequency greater than 1.\")\n",
    "else:\n",
    "    print(\"No unmatched symbols with a net frequency greater than 1.\")"
   ]
  },
  {
   "cell_type": "code",
   "execution_count": 29,
   "id": "a10fae52",
   "metadata": {},
   "outputs": [
    {
     "name": "stdout",
     "output_type": "stream",
     "text": [
      "There are ambigious symbols\n",
      "      symbol  gi_freq\n",
      "31582   H3.X        2\n",
      "91196   ZASP        2\n"
     ]
    }
   ],
   "source": [
    "### Test3: identify any duplicate gene symbols in the gene_info table\n",
    "\n",
    "gene_info_duplicates = gi_exploded.groupby('symbol', as_index=False).size()\n",
    "gene_info_duplicates.columns = ['symbol', 'gi_freq']\n",
    "gene_info_freq_gt_1 = gene_info_duplicates[gene_info_duplicates['gi_freq'] > 1]\n",
    "if not gene_info_freq_gt_1.empty:\n",
    "    print(\"There are ambigious symbols\")\n",
    "    print(gene_info_freq_gt_1)\n",
    "else:\n",
    "    print(\"No ambigious symbols\")"
   ]
  },
  {
   "cell_type": "code",
   "execution_count": 30,
   "id": "fd8f4742",
   "metadata": {},
   "outputs": [
    {
     "name": "stdout",
     "output_type": "stream",
     "text": [
      "No ambigious entrez_id\n"
     ]
    }
   ],
   "source": [
    "### Test4: identify any duplicate entrez_ids in the gene_info table\n",
    "\n",
    "gene_info_duplicates = gene_info.groupby('entrez_id', as_index=False).size()\n",
    "gene_info_duplicates.columns = ['entrez_id', 'gi_freq']\n",
    "gene_info_freq_gt_1 = gene_info_duplicates[gene_info_duplicates['gi_freq'] > 1]\n",
    "if not gene_info_freq_gt_1.empty:\n",
    "    print(\"There are ambigious entrez_id\")\n",
    "    print(gene_info_freq_gt_1)\n",
    "else:\n",
    "    print(\"No ambigious entrez_id\")"
   ]
  },
  {
   "cell_type": "code",
   "execution_count": 31,
   "id": "b1a58ee9",
   "metadata": {},
   "outputs": [
    {
     "name": "stdout",
     "output_type": "stream",
     "text": [
      "All symbols in gene_info were created following the priority order: main_symbol > previous_symbol > alias_symbol.\n"
     ]
    }
   ],
   "source": [
    "### Test5: Check if the ambiguous symbols in gene info are are dropped according to the order\n",
    "# main_symbol > previous_symbol > alias_symbol\n",
    "\n",
    "cs_dfs = []\n",
    "for col in ['symbol', 'alias_symbol', 'prev_symbol']:\n",
    "    temp_df = complete_set[['hgnc_id', 'entrez_id', col]].copy()\n",
    "    temp_df[col] = temp_df[col].str.split('|')\n",
    "    exploded_df = temp_df.explode(col).rename(columns={col: 'symbol'}).reset_index(drop=True)\n",
    "    exploded_df['source_column'] = col\n",
    "    cs_dfs.append(exploded_df)\n",
    "cs_exploded = pd.concat(cs_dfs, ignore_index=True)\n",
    "cs_exploded = cs_exploded[cs_exploded['symbol'] != '']\n",
    "\n",
    "# Define the desired order for the 'source_column'\n",
    "sort_order = {'symbol': 1, 'prev_symbol': 2, 'alias_symbol': 3}\n",
    "cs_exploded['sort_order'] = cs_exploded['source_column'].map(sort_order)\n",
    "cs_exploded = cs_exploded.sort_values(by=['symbol', 'sort_order']).reset_index(drop=True)\n",
    "\n",
    "# Drop duplicates in the 'symbol' column, keeping the first occurrence in the sorted order\n",
    "cs_exploded = cs_exploded.drop_duplicates(subset='symbol', keep='first').drop(columns='sort_order')\n",
    "\n",
    "# Join gene_info.txt file to complete set\n",
    "merged_df = pd.merge(cs_exploded, gi_exploded_renamed, left_on=['hgnc_id', 'entrez_id', 'symbol'], right_on=['hgnc_id_gi', 'entrez_id_gi', 'symbol_gi'], how='left')\n",
    "\n",
    "unmatched_rows = merged_df[merged_df['hgnc_id_gi'] == \"\"]\n",
    "unmatched_symbols = unmatched_rows.groupby('symbol', as_index=False).size()\n",
    "unmatched_symbols.columns = ['symbol', 'gi_freq']\n",
    "if not unmatched_symbols.empty:\n",
    "    print(\"Some symbols in gene_info were not created following the priority order: main_symbol > previous_symbol > alias_symbol.\")\n",
    "    print(unmatched_symbols)\n",
    "else:\n",
    "    print(\"All symbols in gene_info were created following the priority order: main_symbol > previous_symbol > alias_symbol.\")\n"
   ]
  },
  {
   "cell_type": "code",
   "execution_count": 32,
   "id": "a9ed93ca",
   "metadata": {},
   "outputs": [
    {
     "name": "stdout",
     "output_type": "stream",
     "text": [
      "There are 173 genes in the new gene_info.txt file that are missing from the old version and not listed in gene_updates.md.\n",
      "{'DNAJC2P1', 'ACO2P1', 'TIALD', 'KCNK10-AS1', 'LINC03139', 'DNAJC9P1', 'PYGO2-AS1', 'IL9RP6', 'GABRA6-AS1', 'SNRPNP2', 'WTAPP2', 'PIEZO1-AS1', 'BBLNP1', 'MIR550A3HG', 'EFCAB2-AS1', 'ERVE-5', 'ADAMTS16-AS1', 'ACER3-AS1', 'SNRPA1P2', 'LDLRAD4-AS2', 'DCAF12-AS1', 'DLGAP1-AS6', 'LINC03125', 'TGILR', 'DENRP1', 'TM7SF3-AS1', 'CYP3A4-AS1', 'NIPAL1P1', 'LNCEGFL7OS', 'MLDHR', 'CANT1P1', 'PERPP3', 'SYNCRIPP1', 'ATP5MFP7', 'CMPK1P2', 'PAGE4P1', 'ATP5PFP2', 'RPL35P10', 'CDK5RAP3P1', 'MPPE1P2', 'CDCA7P1', 'ATP6V1FP1', 'ANAPC13P1', 'CPSF6P1', 'KLHL5P1', 'C14orf119P1', 'GLYR1P1', 'RNF228', 'DENRP4', 'RNF4BP', 'ZNF143-AS1', 'KLHL12P1', 'SSBP3P6', 'ADAMTS7P5', 'SKP1P4', 'ALDOC-AS1', 'HNRNPA3P17', 'RPS8P11', 'PHF10P2', 'CRK-AS1', 'LNCARGI', 'TGFBRAP1-AS1', 'USP10P3', 'LIRIL2R', 'WDR5CP', 'SSBP3P5', 'ACO2P2', 'RBBP8-AS1', 'YY1-DT', 'TSHZ2-AS1', 'GLYATL1-AS1', 'TCEAL9P1', 'SSBP3P3', 'LINC03121', 'NUDT5P1', 'C18orf21P1', 'PPP3CA-DT', 'TNPO3P2', 'SLEAR', 'TVP23BP3', 'RPL29P35', 'SMIM10L3', 'ETFRF1P1', 'ASH2LP4', 'PROK2-DT', 'LINC03138', 'LINC03133', 'FIGLAP1', 'HLMR1', 'BBLNP2', 'ACTR2P1', 'GCM1P1', 'COX16P1', 'SYT1-AS1', 'LINC03136', 'RPL17P52', 'MTCO1P59', 'LINC03129', 'RPS26P59', 'TRPA2P', 'CPAMD8P1', 'NEFHP2', 'YPEL5P4', 'SCDAL', 'MARK2P21', 'LINC03137', 'SSBP3P4', 'VTCN1P1', 'RPL35AP38', 'LSM2P1', 'IL9RP5', 'DNAJC6-AS1', 'ATP6V1FP2', 'CHILL1', 'ATP5PFP3', 'COA1P1', 'SCREEM1', 'PDGFDDN', 'GAD1-AS1', 'AMANZI', 'PRSS3P5', 'UBE2D3P5', 'MTNAP1P1', 'PRR11P1', 'RPL32P37', 'NPIPA6', 'MTMR9P1', 'RPL28P6', 'MAL-AS1', 'RPS3AP55', 'TSNAX-DT', 'RPL27AP9', 'MKRN10P', 'ACTR2P2', 'SYNE3-AS1', 'LINC03130', 'COX8CP1', 'TNFRSF10B-AS1', 'NQO1-AS1', 'ATP5PFP4', 'DTNBP1-AS1', 'SSU72-AS1', 'ISCA1P7', 'LINC03131', 'SPICE1-CFAP44', 'RSRC1P1', 'ITGAEP1', 'TGFBR1P1', 'PTPN11BP', 'DENRP2', 'LSM2P2', 'CENATACP1', 'CMPK1P1', 'DENRP3', 'SPATA31B2P', 'SLC39A1P1', 'LINC03126', 'EXOSC8P1', 'TRCG1P', 'PFKFB3-AS1', 'HSPBAP1P1', 'LINC03135', 'ANKRD36P2', 'TIAL1P1', 'SDHCP5', 'PEARL1', 'TRMT112P8', 'NRGN-AS1', 'CDCA7P2', 'STMN3P1', 'AP3S1P1', 'C7orf78', 'UBXN2AP1'}\n",
      "\n",
      "\n",
      "There are 173 entrez_ids in the new gene_info.txt file that are missing from the old version and not listed in gene_updates.md.\n",
      "{'132542984', '101929528', '100128078', '646762', '137805485', '137805484', '132542979', '107985264', '122319436', '100419583', '392232', '132542983', '133395143', '133395150', '100419301', '105371967', '137805480', '100422298', '100418956', '343508', '150417', '107985533', '133395145', '101060052', '100420611', '107986592', '100129202', '100652897', '137233469', '133039960', '137805493', '644656', '100421483', '101929107', '124902447', '100132698', '132565736', '137805488', '780780', '107986530', '137805489', '102724416', '137805482', '100192388', '643172', '646674', '133039962', '100419570', '100419811', '133395146', '124902371', '678656', '101928296', '133395148', '100422449', '100287966', '101927180', '133039959', '101928612', '441455', '133039970', '100129601', '442172', '100288542', '105370612', '441996', '149935', '124901267', '100422416', '100420177', '133395147', '100132239', '132532400', '646216', '100129262', '137805490', '132503825', '401127', '137805486', '137805492', '100287427', '105372654', '642943', '127898559', '390876', '105372669', '100421414', '133039974', '100131536', '105374869', '133039961', '137805483', '84214', '100128144', '137805491', '132542980', '127460870', '133834869', '101928068', '122526782', '100507389', '286059', '101232810', '100505664', '102725191', '132565735', '132591089', '339059', '149844', '132542981', '100736412', '100128428', '100420064', '137805487', '101928120', '105370035', '105376731', '100421569', '124906046', '105369464', '729557', '100289381', '138349443', '100132242', '441374', '100421614', '132542982', '137805481', '100820734', '107985265', '100418898', '391239', '100421490', '100131159', '100820733', '137933868', '284441', '124902721', '100129358', '646408', '137233470', '100419673', '90024', '122526779', '101929309', '497049', '112267871', '646517', '124902781', '133039958', '133039963', '100132723', '100130664', '400174', '124902119', '112267975', '100652794', '102724908', '100132762', '133395144', '100419923', '133039964', '137233472', '133039969', '134006662', '692246', '133039967', '207148', '133395149', '138349442', '340268', '131675794', '642502'}\n"
     ]
    }
   ],
   "source": [
    "### Test6: Compare the current and old versions of gene_info.txt\n",
    "# and list symbols missing in the new file along with the gene_updates.md file.\n",
    "\n",
    "# input file: with two columns gene, entrez that contains all gene and entrez symbols from gene_updates.md file all merged together in no particualar order.\n",
    "gene_set = set(gene_updates_list['gene'].dropna().replace('', None).dropna())\n",
    "entrez_set = set(gene_updates_list['entrez'].dropna().replace('', None).dropna())\n",
    "prev_gene_info = prev_gene_info[['hgnc_id', 'symbol', 'synonyms', 'entrez_id']]\n",
    "\n",
    "prev_gi_dfs = []\n",
    "for col in ['symbol', 'synonyms']:\n",
    "    temp_df = prev_gene_info[['hgnc_id', 'entrez_id', col]].copy()\n",
    "    temp_df[col] = temp_df[col].str.split('|')\n",
    "    exploded_df = temp_df.explode(col).rename(columns={col: 'symbol'}).reset_index(drop=True)\n",
    "    exploded_df['source_column'] = col\n",
    "    prev_gi_dfs.append(exploded_df)\n",
    "prev_gi_exploded = pd.concat(prev_gi_dfs, ignore_index=True)\n",
    "prev_gi_exploded = prev_gi_exploded[prev_gi_exploded['symbol'] != '']\n",
    "\n",
    "gi_dfs = []\n",
    "for col in ['symbol', 'synonyms']:\n",
    "    temp_df = gene_info[['hgnc_id', 'entrez_id', col]].copy()\n",
    "    temp_df[col] = temp_df[col].str.split('|')\n",
    "    exploded_df = temp_df.explode(col).rename(columns={col: 'symbol'}).reset_index(drop=True)\n",
    "    exploded_df['source_column'] = col\n",
    "    gi_dfs.append(exploded_df)\n",
    "gi_exploded = pd.concat(gi_dfs, ignore_index=True)\n",
    "gi_exploded = gi_exploded[gi_exploded['symbol'] != '']\n",
    "\n",
    "gi_exploded_renamed = gi_exploded.rename(columns={\n",
    "    'hgnc_id': 'hgnc_id_gi',\n",
    "    'entrez_id': 'entrez_id_gi',\n",
    "    'symbol': 'symbol_gi'\n",
    "})\n",
    "\n",
    "merged_result1 = pd.merge(prev_gi_exploded, gi_exploded_renamed, left_on=['hgnc_id', 'entrez_id', 'symbol'], right_on=['hgnc_id_gi', 'entrez_id_gi', 'symbol_gi'], how='outer', suffixes=('_df1', '_df2'))\n",
    "merged_result1 = merged_result1.fillna(\"\")\n",
    "merged_result1.to_csv('b.txt', sep='\\t')\n",
    "\n",
    "#1. Select were symbol = '' in prev -> gene_updates.md should have the symbol\n",
    "prev_symbol_check = merged_result1[(merged_result1['symbol'] == \"\") & (merged_result1['source_column_df2'] == 'symbol')]\n",
    "prev_symbol_check_set = set(prev_symbol_check['symbol_gi'].dropna().replace('', None).dropna())\n",
    "gene_difference = prev_symbol_check_set - gene_set\n",
    "print(f\"There are {len(gene_difference)} genes in the new gene_info.txt file that are missing from the old version and not listed in gene_updates.md.\")\n",
    "print(gene_difference)\n",
    "\n",
    "#2. Select were entrez = '' in prev -> gene_updates.md should have the id\n",
    "prev_entrez_check = merged_result1[(merged_result1['entrez_id'] == \"\") & (merged_result1['source_column_df2'] == 'symbol')]\n",
    "prev_entrez_check_set = set(prev_entrez_check['entrez_id_gi'].dropna().replace('', None).dropna())\n",
    "entrez_difference = prev_entrez_check_set - entrez_set\n",
    "print(f\"\\n\\nThere are {len(entrez_difference)} entrez_ids in the new gene_info.txt file that are missing from the old version and not listed in gene_updates.md.\")\n",
    "print(entrez_difference)"
   ]
  },
  {
   "cell_type": "code",
   "execution_count": null,
   "id": "7e387040",
   "metadata": {},
   "outputs": [],
   "source": []
  }
 ],
 "metadata": {
  "kernelspec": {
   "display_name": "Python 3 (ipykernel)",
   "language": "python",
   "name": "python3"
  },
  "language_info": {
   "codemirror_mode": {
    "name": "ipython",
    "version": 3
   },
   "file_extension": ".py",
   "mimetype": "text/x-python",
   "name": "python",
   "nbconvert_exporter": "python",
   "pygments_lexer": "ipython3",
   "version": "3.10.9"
  }
 },
 "nbformat": 4,
 "nbformat_minor": 5
}
